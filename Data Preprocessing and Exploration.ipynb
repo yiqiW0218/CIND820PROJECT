{
 "cells": [
  {
   "cell_type": "code",
   "execution_count": 1,
   "metadata": {},
   "outputs": [],
   "source": [
    "import json\n",
    "import matplotlib.pyplot as plt\n",
    "import copy\n",
    "import numpy as np\n",
    "import pandas as pd"
   ]
  },
  {
   "cell_type": "markdown",
   "metadata": {},
   "source": [
    "# Raw Data Preprocessing"
   ]
  },
  {
   "cell_type": "code",
   "execution_count": 3,
   "metadata": {},
   "outputs": [],
   "source": [
    "# import business.json to raw_business_data\n",
    "raw_business_data = [json.loads(line) for line in open('yelp_academic_dataset_business.json', 'r')]\n",
    "\n",
    "# extract vancouver restaurant information\n",
    "vancouver_business = []\n",
    "for i in range(len(raw_business_data)):\n",
    "    city = raw_business_data[i]['city'].lower()\n",
    "    state = raw_business_data[i]['state'].lower()\n",
    "    \n",
    "    if raw_business_data[i]['categories'] is not None:\n",
    "        category = raw_business_data[i]['categories'].lower()\n",
    "    \n",
    "    if state == 'bc' and ('vancouver' in city):\n",
    "        if 'restaurants' in category:\n",
    "            vancouver_business.append(raw_business_data[i])\n",
    "\n",
    "# collect vancouver restaurant id\n",
    "vb_id = []\n",
    "for i in range(len(vancouver_business)):\n",
    "    if vancouver_business[i]['business_id'] not in vb_id:\n",
    "        vb_id.append(vancouver_business[i]['business_id'])\n",
    "\n",
    "# import review.json to raw_reviews_data\n",
    "raw_reviews_data = [json.loads(line) for line in open('yelp_academic_dataset_review.json', 'r')]\n",
    "\n",
    "# extract reviews on vancouver business.\n",
    "vancouver_reviews = []\n",
    "for i in range(len(raw_reviews_data)):\n",
    "    if raw_reviews_data[i]['business_id'] in vb_id:\n",
    "        vancouver_reviews.append(raw_reviews_data[i])"
   ]
  },
  {
   "cell_type": "code",
   "execution_count": 4,
   "metadata": {},
   "outputs": [
    {
     "name": "stdout",
     "output_type": "stream",
     "text": [
      "The total number of vancouver business data is: 4748\n",
      "The total number of vancouver reviews data is: 322241\n"
     ]
    }
   ],
   "source": [
    "# check total number of vancouver_business and vancouver_reviews\n",
    "print(\"The total number of vancouver restaurants data is:\", len(vancouver_business))\n",
    "print(\"The total number of vancouver reviews data is:\", len(vancouver_reviews))"
   ]
  },
  {
   "cell_type": "code",
   "execution_count": 5,
   "metadata": {},
   "outputs": [],
   "source": [
    "# create new json files of vancouver business and reviews\n",
    "with open('vancouver_restaurants_data.json', 'w') as json_outfile:\n",
    "    json.dump(vancouver_business, json_outfile)\n",
    "    \n",
    "with open('vancouver_reviews_data.json', 'w') as json_outfile:\n",
    "    json.dump(vancouver_reviews, json_outfile)"
   ]
  },
  {
   "cell_type": "code",
   "execution_count": 6,
   "metadata": {},
   "outputs": [
    {
     "data": {
      "image/png": "[encoded data removed]",
      "text/plain": [
       "<Figure size 432x288 with 1 Axes>"
      ]
     },
     "metadata": {
      "needs_background": "light"
     },
     "output_type": "display_data"
    }
   ],
   "source": [
    "# check the reviews by year\n",
    "year_count = {}\n",
    "for i in range(len(vancouver_reviews)):\n",
    "    year = vancouver_reviews[i]['date'][:4]\n",
    "    if year not in year_count.keys():\n",
    "        year_count[year] = 1\n",
    "    else:\n",
    "        year_count[year] += 1\n",
    "        \n",
    "\n",
    "# plot reviews by year in bar chart\n",
    "x = list(year_count.keys())\n",
    "x.sort()\n",
    "y = list(year_count[x[i]] for i in range(len(x)))\n",
    "\n",
    "\n",
    "plt.rcParams['axes.facecolor'] = '#E9EBEC' # figure background color to light grey\n",
    "plt.grid(color = 'white', linestyle = '--', linewidth = 1)\n",
    "plt.bar(x,y, color = '#1DA2DC')\n",
    "plt.xlabel('Year', fontsize = 15)\n",
    "plt.ylabel('Reviews', fontsize = 15)\n",
    "\n",
    "plt.tick_params(labelsize = 14)\n",
    "plt.xticks(rotation=90)\n",
    "\n",
    "plt.show()"
   ]
  },
  {
   "cell_type": "code",
   "execution_count": 7,
   "metadata": {},
   "outputs": [],
   "source": [
    "# filter out 2015 - 2019 vancouver reviews data\n",
    "v_reviews_filtered = []\n",
    "year_selected = ['2015', '2016', '2017', '2018', '2019']\n",
    "\n",
    "for i in range(len(vancouver_reviews)):\n",
    "    year = vancouver_reviews[i]['date'][:4]\n",
    "    \n",
    "    if year in year_selected:\n",
    "        v_reviews_filtered.append(vancouver_reviews[i])"
   ]
  },
  {
   "cell_type": "code",
   "execution_count": 8,
   "metadata": {},
   "outputs": [
    {
     "name": "stdout",
     "output_type": "stream",
     "text": [
      "The total number of vancouver reviews during 2015 - 2019 is: 189599\n"
     ]
    }
   ],
   "source": [
    "# check total number of vancouver_reviews during 2015 - 2019\n",
    "print(\"The total number of vancouver reviews during 2015 - 2019 is:\", len(v_reviews_filtered))"
   ]
  },
  {
   "cell_type": "code",
   "execution_count": 9,
   "metadata": {},
   "outputs": [],
   "source": [
    "# create new json files of 2015 - 2019 vancouver reviews data\n",
    "with open('vancouver_review_data2015_2019.json', 'w') as json_outfile:\n",
    "    json.dump(v_reviews_filtered, json_outfile)"
   ]
  },
  {
   "cell_type": "code",
   "execution_count": 10,
   "metadata": {},
   "outputs": [
    {
     "data": {
      "text/plain": [
       "'        \\n# plot selected period review stars in pie chart\\ny = stars.values()\\n\\nexplode = (0, 0, 0, 0, 0.1)  # only \"explode\" the 5-star slice \\nplt.figure(figsize = (7,7))\\npatches, l_text, p_text = plt.pie(y, labels = stars.keys(), explode = explode, autopct = \\'%.1f%%\\',         shadow = True, colors = [\\'#1DA2DC\\', \\'#9E7CDD\\', \\'#DD7C9F\\', \\'#EAAB3B\\', \\'#6DCA69\\'], startangle = 90)\\n\\n# set up font size & color inside of the pie chart\\nfor i in p_text:\\n    i.set_size(14)\\n    i.set_color(\\'#252525\\')\\n    \\n# set up font size & color ouside of the pie chart\\nfor i in l_text:\\n    i.set_size(14)\\n    i.set_color(\\'#252525\\')\\n    \\nplt.show()\\n'"
      ]
     },
     "execution_count": 10,
     "metadata": {},
     "output_type": "execute_result"
    }
   ],
   "source": [
    "# reviews stars\n",
    "stars = {'1':0, '2':0, '3':0, '4':0, '5':0}\n",
    "\n",
    "for i in range(len(v_reviews_filtered)):\n",
    "    star = v_reviews_filtered[i]['stars']\n",
    "    \n",
    "    if star < 2.0:\n",
    "        stars['1'] += 1\n",
    "    elif star >= 2.0 and star < 3.0:\n",
    "        stars['2'] += 1\n",
    "    elif star >= 3.0 and star < 4.0:\n",
    "        stars['3'] += 1\n",
    "    elif star >= 4.0 and star < 5.0:\n",
    "        stars['4'] += 1\n",
    "    elif star >= 5.0:\n",
    "        stars['5'] += 1\n",
    "\n",
    "'''        \n",
    "# plot selected period review stars in pie chart\n",
    "y = stars.values()\n",
    "\n",
    "explode = (0, 0, 0, 0, 0.1)  # only \"explode\" the 5-star slice \n",
    "plt.figure(figsize = (7,7))\n",
    "patches, l_text, p_text = plt.pie(y, labels = stars.keys(), explode = explode, autopct = '%.1f%%', \\\n",
    "        shadow = True, colors = ['#1DA2DC', '#9E7CDD', '#DD7C9F', '#EAAB3B', '#6DCA69'], startangle = 90)\n",
    "# set up font size & color inside of the pie chart\n",
    "for i in p_text:\n",
    "    i.set_size(14)\n",
    "    i.set_color('#252525')    \n",
    "# set up font size & color ouside of the pie chart\n",
    "for i in l_text:\n",
    "    i.set_size(14)\n",
    "    i.set_color('#252525')    \n",
    "plt.show()\n",
    "'''"
   ]
  },
  {
   "cell_type": "code",
   "execution_count": 11,
   "metadata": {},
   "outputs": [],
   "source": [
    "# combine restaurants & reviews for selected period(2015-2019) - adds restaurants information for each review record\n",
    "reviews_business = copy.deepcopy(v_reviews_filtered)\n",
    "\n",
    "for i in range(len(v_reviews_filtered)):\n",
    "    b_id = v_reviews_filtered[i]['business_id']\n",
    "    \n",
    "    for j in range(len(vancouver_business)):\n",
    "        if vancouver_business[j]['business_id'] == b_id:\n",
    "            for key in vancouver_business[j]:\n",
    "                if key not in ['name', 'stars', 'review_count']:\n",
    "                    reviews_business[i][key] = vancouver_business[j][key]\n",
    "                elif key == 'name':\n",
    "                    reviews_business[i]['b_name'] = vancouver_business[j][key]\n",
    "                elif key == 'stars':\n",
    "                    reviews_business[i]['b_stars'] = vancouver_business[j][key]\n",
    "                elif key == 'review_count':\n",
    "                    reviews_business[i]['b_review_count'] = vancouver_business[j][key]                 "
   ]
  },
  {
   "cell_type": "code",
   "execution_count": 12,
   "metadata": {},
   "outputs": [],
   "source": [
    "with open('reviews_restaurants_2015_2019.json', 'w') as json_outfile:\n",
    "    json.dump(reviews_business, json_outfile)"
   ]
  },
  {
   "cell_type": "code",
   "execution_count": 13,
   "metadata": {},
   "outputs": [],
   "source": [
    "# collect user id who has rated vancouver restaurants in selected period(2015 - 2019)\n",
    "uid_lst = []\n",
    "for i in range(len(reviews_business)):\n",
    "    if reviews_business[i]['user_id'] not in uid_lst:\n",
    "        uid_lst.append(reviews_business[i]['user_id'])"
   ]
  },
  {
   "cell_type": "code",
   "execution_count": 14,
   "metadata": {},
   "outputs": [],
   "source": [
    "# import user.json to raw_user_data\n",
    "raw_user_data = [json.loads(line) for line in open('yelp_academic_dataset_user.json', 'r')]\n",
    "\n",
    "# extract users info who have rated vancouver restaurants in selected period(2015 - 2019)\n",
    "users_data = []\n",
    "for i in range(len(raw_user_data)):\n",
    "    if raw_user_data[i]['user_id'] in uid_lst:\n",
    "        users_data.append(raw_user_data[i])"
   ]
  },
  {
   "cell_type": "code",
   "execution_count": 15,
   "metadata": {},
   "outputs": [
    {
     "name": "stdout",
     "output_type": "stream",
     "text": [
      "The total number of users who rated vancouver restaurants during 2015-2018 is: 64794\n"
     ]
    }
   ],
   "source": [
    "# check total number of users in selected period(2015 - 2019)\n",
    "print(\"The total number of users who rated vancouver restaurants during 2015-2018 is:\", len(users_data))"
   ]
  },
  {
   "cell_type": "code",
   "execution_count": 16,
   "metadata": {},
   "outputs": [],
   "source": [
    "# create new json files of 2015 - 2019 vancouver reviews data\n",
    "with open('user_data2015_2019.json', 'w') as json_outfile:\n",
    "    json.dump(users_data, json_outfile)"
   ]
  },
  {
   "cell_type": "code",
   "execution_count": 17,
   "metadata": {},
   "outputs": [
    {
     "name": "stdout",
     "output_type": "stream",
     "text": [
      "Q1: 3.0\n",
      "Q3: 30.0\n",
      "lower_fence -37.5\n",
      "upper_fence 70.5\n"
     ]
    }
   ],
   "source": [
    "# find review_count outliers in users_data\n",
    "review_count_lst = []\n",
    "for i in range(len(users_data)):\n",
    "    review_count_lst.append(users_data[i]['review_count'])\n",
    "    \n",
    "q1 = np.quantile(review_count_lst, 0.25)\n",
    "q3 = np.quantile(review_count_lst, 0.75)\n",
    "lower_fence = q1 - 1.5 * (q3 - q1)\n",
    "upper_fence = q3 + 1.5 * (q3 - q1)\n",
    "print(\"Q1:\", q1)\n",
    "print(\"Q3:\", q3)\n",
    "print(\"lower_fence\", lower_fence)\n",
    "print(\"upper_fence\", upper_fence)"
   ]
  },
  {
   "cell_type": "code",
   "execution_count": 18,
   "metadata": {},
   "outputs": [
    {
     "data": {
      "text/plain": [
       "{'whiskers': [<matplotlib.lines.Line2D at 0x7f8ccb5a8a90>,\n",
       "  <matplotlib.lines.Line2D at 0x7f8d2eff03d0>],\n",
       " 'caps': [<matplotlib.lines.Line2D at 0x7f8d2eff0700>,\n",
       "  <matplotlib.lines.Line2D at 0x7f8d2eff0070>],\n",
       " 'boxes': [<matplotlib.lines.Line2D at 0x7f8ccb5a84f0>],\n",
       " 'medians': [<matplotlib.lines.Line2D at 0x7f8d2eff0ca0>],\n",
       " 'fliers': [],\n",
       " 'means': []}"
      ]
     },
     "execution_count": 18,
     "metadata": {},
     "output_type": "execute_result"
    },
    {
     "data": {
      "image/png": "[encoded data removed]",
      "text/plain": [
       "<Figure size 432x288 with 1 Axes>"
      ]
     },
     "metadata": {
      "needs_background": "light"
     },
     "output_type": "display_data"
    }
   ],
   "source": [
    "# draw box-plot of review_count \n",
    "plt.boxplot(review_count_lst, 0, '', labels = ['review_counts'])"
   ]
  },
  {
   "cell_type": "code",
   "execution_count": 19,
   "metadata": {},
   "outputs": [],
   "source": [
    "# remove review_count outliers and extract user info whose review_counts is equal to or less than 70\n",
    "user_filtered = []\n",
    "for i in range(len(users_data)):\n",
    "    if users_data[i]['review_count'] <= 70:\n",
    "        user_filtered.append(users_data[i])"
   ]
  },
  {
   "cell_type": "code",
   "execution_count": 20,
   "metadata": {},
   "outputs": [],
   "source": [
    "# conbime reviews_business & users - add users information for each review_business record\n",
    "reviews_business_users = []\n",
    "\n",
    "for i in range(len(reviews_business)):\n",
    "    review = []\n",
    "    u_id = reviews_business[i]['user_id']\n",
    "\n",
    "    for j in range(len(user_filtered)):\n",
    "        if user_filtered[j]['user_id'] == u_id:\n",
    "            review = reviews_business[i]\n",
    "            for key in user_filtered[j]:\n",
    "                if key not in ['name', 'review_count', 'useful', 'funny', 'cool', 'friends']:\n",
    "                    review[key] = user_filtered[j][key]\n",
    "                elif key == 'review_count':\n",
    "                    review['u_review_count'] = user_filtered[j][key]\n",
    "                elif key == 'useful':\n",
    "                    review['u_useful'] = user_filtered[j][key]\n",
    "                elif key == 'funny':\n",
    "                    review['u_funny'] = user_filtered[j][key]\n",
    "                elif key == 'cool':\n",
    "                    review['u_cool'] = user_filtered[j][key]\n",
    "            \n",
    "            reviews_business_users.append(review)"
   ]
  },
  {
   "cell_type": "code",
   "execution_count": 21,
   "metadata": {},
   "outputs": [
    {
     "data": {
      "text/plain": [
       "123927"
      ]
     },
     "execution_count": 21,
     "metadata": {},
     "output_type": "execute_result"
    }
   ],
   "source": [
    "len(reviews_business_users)"
   ]
  },
  {
   "cell_type": "code",
   "execution_count": 22,
   "metadata": {},
   "outputs": [],
   "source": [
    "# export reviews_business_users json file\n",
    "with open('reviews_restaurants_users_final.json', 'w') as json_outfile:\n",
    "    json.dump(reviews_business_users, json_outfile)"
   ]
  },
  {
   "cell_type": "markdown",
   "metadata": {},
   "source": [
    "# EDA and Visualization"
   ]
  },
  {
   "cell_type": "code",
   "execution_count": 23,
   "metadata": {},
   "outputs": [],
   "source": [
    "# import reviews_business_users_final to rbu_data\n",
    "for line in open('reviews_restaurants_users_final.json', 'r'):\n",
    "    rbu_data = json.loads(line) \n",
    "# create a dataframe of reviews_business_users\n",
    "df = pd.DataFrame.from_dict(rbu_data, orient='columns')"
   ]
  },
  {
   "cell_type": "code",
   "execution_count": 24,
   "metadata": {
    "scrolled": false
   },
   "outputs": [
    {
     "data": {
      "text/html": [
       "<div>\n",
       "<style scoped>\n",
       "    .dataframe tbody tr th:only-of-type {\n",
       "        vertical-align: middle;\n",
       "    }\n",
       "\n",
       "    .dataframe tbody tr th {\n",
       "        vertical-align: top;\n",
       "    }\n",
       "\n",
       "    .dataframe thead th {\n",
       "        text-align: right;\n",
       "    }\n",
       "</style>\n",
       "<table border=\"1\" class=\"dataframe\">\n",
       "  <thead>\n",
       "    <tr style=\"text-align: right;\">\n",
       "      <th></th>\n",
       "      <th>index</th>\n",
       "      <th>review_id</th>\n",
       "      <th>user_id</th>\n",
       "      <th>business_id</th>\n",
       "      <th>stars</th>\n",
       "      <th>useful</th>\n",
       "      <th>funny</th>\n",
       "      <th>cool</th>\n",
       "      <th>text</th>\n",
       "      <th>date</th>\n",
       "      <th>b_name</th>\n",
       "      <th>address</th>\n",
       "      <th>city</th>\n",
       "      <th>state</th>\n",
       "      <th>postal_code</th>\n",
       "      <th>latitude</th>\n",
       "      <th>longitude</th>\n",
       "      <th>b_stars</th>\n",
       "      <th>b_review_count</th>\n",
       "      <th>is_open</th>\n",
       "      <th>attributes</th>\n",
       "      <th>categories</th>\n",
       "      <th>hours</th>\n",
       "      <th>u_review_count</th>\n",
       "      <th>yelping_since</th>\n",
       "      <th>u_useful</th>\n",
       "      <th>u_funny</th>\n",
       "      <th>u_cool</th>\n",
       "      <th>elite</th>\n",
       "      <th>fans</th>\n",
       "      <th>average_stars</th>\n",
       "    </tr>\n",
       "  </thead>\n",
       "  <tbody>\n",
       "    <tr>\n",
       "      <th>0</th>\n",
       "      <td>0</td>\n",
       "      <td>ucFOnqgaV40oQ2YNyz5ddQ</td>\n",
       "      <td>JHXQEayrDHOWGexs0dCviA</td>\n",
       "      <td>KXCXaF5qimmtKKqnPc_LQA</td>\n",
       "      <td>1.0</td>\n",
       "      <td>0</td>\n",
       "      <td>0</td>\n",
       "      <td>0</td>\n",
       "      <td>Great coffee and pastries. Baristas are excell...</td>\n",
       "      <td>2018-03-03 23:45:25</td>\n",
       "      <td>Thierry</td>\n",
       "      <td>1059 Alberni Street</td>\n",
       "      <td>Vancouver</td>\n",
       "      <td>BC</td>\n",
       "      <td>V6E 1A1</td>\n",
       "      <td>49.284877</td>\n",
       "      <td>-123.122629</td>\n",
       "      <td>4.0</td>\n",
       "      <td>849</td>\n",
       "      <td>1</td>\n",
       "      <td>{'RestaurantsPriceRange2': '2', 'BikeParking':...</td>\n",
       "      <td>Food, Desserts, Chocolatiers &amp; Shops, Food Del...</td>\n",
       "      <td>{'Monday': '0:0-0:0', 'Tuesday': '8:0-22:0', '...</td>\n",
       "      <td>70</td>\n",
       "      <td>2009-12-11 18:25:05</td>\n",
       "      <td>118</td>\n",
       "      <td>26</td>\n",
       "      <td>21</td>\n",
       "      <td></td>\n",
       "      <td>3</td>\n",
       "      <td>2.79</td>\n",
       "    </tr>\n",
       "    <tr>\n",
       "      <th>1</th>\n",
       "      <td>1</td>\n",
       "      <td>1OsubwE6zKNU1fkBGxOFrQ</td>\n",
       "      <td>vFnYYmtVwcMGyyGesNImVQ</td>\n",
       "      <td>jMz_y_-cWMfiZF7Q5snE6Q</td>\n",
       "      <td>5.0</td>\n",
       "      <td>0</td>\n",
       "      <td>0</td>\n",
       "      <td>0</td>\n",
       "      <td>Ordered the original tonkotsu base ramen and a...</td>\n",
       "      <td>2016-01-30 02:39:22</td>\n",
       "      <td>Ramen Danbo</td>\n",
       "      <td>1333 Robson Street</td>\n",
       "      <td>Vancouver</td>\n",
       "      <td>BC</td>\n",
       "      <td>V6E 2B1</td>\n",
       "      <td>49.287496</td>\n",
       "      <td>-123.128934</td>\n",
       "      <td>4.5</td>\n",
       "      <td>436</td>\n",
       "      <td>1</td>\n",
       "      <td>{'RestaurantsGoodForGroups': 'False', 'GoodFor...</td>\n",
       "      <td>Ramen, Japanese, Noodles, Restaurants</td>\n",
       "      <td>{'Monday': '11:0-23:0', 'Tuesday': '11:0-23:0'...</td>\n",
       "      <td>68</td>\n",
       "      <td>2013-06-15 04:55:52</td>\n",
       "      <td>34</td>\n",
       "      <td>10</td>\n",
       "      <td>18</td>\n",
       "      <td></td>\n",
       "      <td>0</td>\n",
       "      <td>3.89</td>\n",
       "    </tr>\n",
       "    <tr>\n",
       "      <th>2</th>\n",
       "      <td>2</td>\n",
       "      <td>P320Yt8vFD3yjI34hq-umg</td>\n",
       "      <td>IMfkbLVt_GJfD7zJ9T4fcw</td>\n",
       "      <td>VPqWLp9kMiZEbctCebIZUA</td>\n",
       "      <td>3.0</td>\n",
       "      <td>0</td>\n",
       "      <td>0</td>\n",
       "      <td>0</td>\n",
       "      <td>Overall is good, is worth the line up I don't ...</td>\n",
       "      <td>2018-09-25 03:22:50</td>\n",
       "      <td>Medina Cafe</td>\n",
       "      <td>780 Richards Street</td>\n",
       "      <td>Vancouver</td>\n",
       "      <td>BC</td>\n",
       "      <td>V6B 3A4</td>\n",
       "      <td>49.280443</td>\n",
       "      <td>-123.117036</td>\n",
       "      <td>4.0</td>\n",
       "      <td>2302</td>\n",
       "      <td>1</td>\n",
       "      <td>{'GoodForKids': 'True', 'RestaurantsPriceRange...</td>\n",
       "      <td>Bars, Moroccan, Wine Bars, Breakfast &amp; Brunch,...</td>\n",
       "      <td>{'Monday': '0:0-0:0', 'Tuesday': '9:0-15:0', '...</td>\n",
       "      <td>12</td>\n",
       "      <td>2016-05-16 18:49:40</td>\n",
       "      <td>6</td>\n",
       "      <td>1</td>\n",
       "      <td>1</td>\n",
       "      <td></td>\n",
       "      <td>0</td>\n",
       "      <td>4.67</td>\n",
       "    </tr>\n",
       "    <tr>\n",
       "      <th>3</th>\n",
       "      <td>3</td>\n",
       "      <td>fH8hF8bOFGxITdwuvNQVkw</td>\n",
       "      <td>XK_VJRqf_91vCnZigJGfxw</td>\n",
       "      <td>IYyYpXSsD41g14_z-Zdtiw</td>\n",
       "      <td>5.0</td>\n",
       "      <td>0</td>\n",
       "      <td>0</td>\n",
       "      <td>0</td>\n",
       "      <td>I found this Thai restaurant at yelp! \\nSmall,...</td>\n",
       "      <td>2017-02-19 06:31:42</td>\n",
       "      <td>Kin Kao Thai Kitchen</td>\n",
       "      <td>903 Commercial Drive</td>\n",
       "      <td>Vancouver</td>\n",
       "      <td>BC</td>\n",
       "      <td>V5L</td>\n",
       "      <td>49.276356</td>\n",
       "      <td>-123.069692</td>\n",
       "      <td>4.0</td>\n",
       "      <td>143</td>\n",
       "      <td>1</td>\n",
       "      <td>{'RestaurantsTakeOut': 'True', 'GoodForKids': ...</td>\n",
       "      <td>Thai, Restaurants</td>\n",
       "      <td>{'Monday': '17:0-21:0', 'Tuesday': '17:0-21:0'...</td>\n",
       "      <td>10</td>\n",
       "      <td>2015-05-25 00:56:03</td>\n",
       "      <td>16</td>\n",
       "      <td>7</td>\n",
       "      <td>7</td>\n",
       "      <td></td>\n",
       "      <td>0</td>\n",
       "      <td>4.70</td>\n",
       "    </tr>\n",
       "    <tr>\n",
       "      <th>4</th>\n",
       "      <td>4</td>\n",
       "      <td>XPjCvOzRsoa-5-Dp3SNrjw</td>\n",
       "      <td>fNTuJcjClg4DXI_J_IcQpQ</td>\n",
       "      <td>KW2svfVHffW_FD8oeJo1xQ</td>\n",
       "      <td>1.0</td>\n",
       "      <td>0</td>\n",
       "      <td>0</td>\n",
       "      <td>0</td>\n",
       "      <td>Apparently it's a requirement to have a TERRIB...</td>\n",
       "      <td>2016-07-03 18:40:42</td>\n",
       "      <td>Something Healthy Wholesome Meals &amp; Juice Bar</td>\n",
       "      <td>660 Abbott Street</td>\n",
       "      <td>Vancouver</td>\n",
       "      <td>BC</td>\n",
       "      <td>V6B 6N7</td>\n",
       "      <td>49.279138</td>\n",
       "      <td>-123.107450</td>\n",
       "      <td>3.5</td>\n",
       "      <td>34</td>\n",
       "      <td>0</td>\n",
       "      <td>{'RestaurantsAttire': 'u'casual'', 'GoodForKid...</td>\n",
       "      <td>Sandwiches, Restaurants, Juice Bars &amp; Smoothie...</td>\n",
       "      <td>{'Monday': '9:0-20:0', 'Tuesday': '9:0-20:0', ...</td>\n",
       "      <td>3</td>\n",
       "      <td>2016-07-03 18:26:57</td>\n",
       "      <td>6</td>\n",
       "      <td>0</td>\n",
       "      <td>1</td>\n",
       "      <td></td>\n",
       "      <td>0</td>\n",
       "      <td>2.33</td>\n",
       "    </tr>\n",
       "  </tbody>\n",
       "</table>\n",
       "</div>"
      ],
      "text/plain": [
       "   index               review_id                 user_id  \\\n",
       "0      0  ucFOnqgaV40oQ2YNyz5ddQ  JHXQEayrDHOWGexs0dCviA   \n",
       "1      1  1OsubwE6zKNU1fkBGxOFrQ  vFnYYmtVwcMGyyGesNImVQ   \n",
       "2      2  P320Yt8vFD3yjI34hq-umg  IMfkbLVt_GJfD7zJ9T4fcw   \n",
       "3      3  fH8hF8bOFGxITdwuvNQVkw  XK_VJRqf_91vCnZigJGfxw   \n",
       "4      4  XPjCvOzRsoa-5-Dp3SNrjw  fNTuJcjClg4DXI_J_IcQpQ   \n",
       "\n",
       "              business_id  stars  useful  funny  cool  \\\n",
       "0  KXCXaF5qimmtKKqnPc_LQA    1.0       0      0     0   \n",
       "1  jMz_y_-cWMfiZF7Q5snE6Q    5.0       0      0     0   \n",
       "2  VPqWLp9kMiZEbctCebIZUA    3.0       0      0     0   \n",
       "3  IYyYpXSsD41g14_z-Zdtiw    5.0       0      0     0   \n",
       "4  KW2svfVHffW_FD8oeJo1xQ    1.0       0      0     0   \n",
       "\n",
       "                                                text                 date  \\\n",
       "0  Great coffee and pastries. Baristas are excell...  2018-03-03 23:45:25   \n",
       "1  Ordered the original tonkotsu base ramen and a...  2016-01-30 02:39:22   \n",
       "2  Overall is good, is worth the line up I don't ...  2018-09-25 03:22:50   \n",
       "3  I found this Thai restaurant at yelp! \\nSmall,...  2017-02-19 06:31:42   \n",
       "4  Apparently it's a requirement to have a TERRIB...  2016-07-03 18:40:42   \n",
       "\n",
       "                                          b_name               address  \\\n",
       "0                                        Thierry   1059 Alberni Street   \n",
       "1                                    Ramen Danbo    1333 Robson Street   \n",
       "2                                    Medina Cafe   780 Richards Street   \n",
       "3                           Kin Kao Thai Kitchen  903 Commercial Drive   \n",
       "4  Something Healthy Wholesome Meals & Juice Bar     660 Abbott Street   \n",
       "\n",
       "        city state postal_code   latitude   longitude  b_stars  \\\n",
       "0  Vancouver    BC     V6E 1A1  49.284877 -123.122629      4.0   \n",
       "1  Vancouver    BC     V6E 2B1  49.287496 -123.128934      4.5   \n",
       "2  Vancouver    BC     V6B 3A4  49.280443 -123.117036      4.0   \n",
       "3  Vancouver    BC         V5L  49.276356 -123.069692      4.0   \n",
       "4  Vancouver    BC     V6B 6N7  49.279138 -123.107450      3.5   \n",
       "\n",
       "   b_review_count  is_open                                         attributes  \\\n",
       "0             849        1  {'RestaurantsPriceRange2': '2', 'BikeParking':...   \n",
       "1             436        1  {'RestaurantsGoodForGroups': 'False', 'GoodFor...   \n",
       "2            2302        1  {'GoodForKids': 'True', 'RestaurantsPriceRange...   \n",
       "3             143        1  {'RestaurantsTakeOut': 'True', 'GoodForKids': ...   \n",
       "4              34        0  {'RestaurantsAttire': 'u'casual'', 'GoodForKid...   \n",
       "\n",
       "                                          categories  \\\n",
       "0  Food, Desserts, Chocolatiers & Shops, Food Del...   \n",
       "1              Ramen, Japanese, Noodles, Restaurants   \n",
       "2  Bars, Moroccan, Wine Bars, Breakfast & Brunch,...   \n",
       "3                                  Thai, Restaurants   \n",
       "4  Sandwiches, Restaurants, Juice Bars & Smoothie...   \n",
       "\n",
       "                                               hours  u_review_count  \\\n",
       "0  {'Monday': '0:0-0:0', 'Tuesday': '8:0-22:0', '...              70   \n",
       "1  {'Monday': '11:0-23:0', 'Tuesday': '11:0-23:0'...              68   \n",
       "2  {'Monday': '0:0-0:0', 'Tuesday': '9:0-15:0', '...              12   \n",
       "3  {'Monday': '17:0-21:0', 'Tuesday': '17:0-21:0'...              10   \n",
       "4  {'Monday': '9:0-20:0', 'Tuesday': '9:0-20:0', ...               3   \n",
       "\n",
       "         yelping_since  u_useful  u_funny  u_cool elite  fans  average_stars  \n",
       "0  2009-12-11 18:25:05       118       26      21           3           2.79  \n",
       "1  2013-06-15 04:55:52        34       10      18           0           3.89  \n",
       "2  2016-05-16 18:49:40         6        1       1           0           4.67  \n",
       "3  2015-05-25 00:56:03        16        7       7           0           4.70  \n",
       "4  2016-07-03 18:26:57         6        0       1           0           2.33  "
      ]
     },
     "execution_count": 24,
     "metadata": {},
     "output_type": "execute_result"
    }
   ],
   "source": [
    "# preview df\n",
    "df = df.drop(columns = ['compliment_hot', 'compliment_more', 'compliment_profile', 'compliment_cute', \\\n",
    "                   'compliment_list', 'compliment_note', 'compliment_plain', 'compliment_cool', \\\n",
    "                   'compliment_funny', 'compliment_writer', 'compliment_photos'])\n",
    "\n",
    "# insert index colum\n",
    "df['index'] = df.index.values\n",
    "cols = df.columns.tolist()\n",
    "cols = cols[-1:] + cols[:-1]\n",
    "df = df[cols]\n",
    "\n",
    "# preview df\n",
    "pd.set_option('display.max_columns', None)\n",
    "df.head()"
   ]
  },
  {
   "cell_type": "code",
   "execution_count": 25,
   "metadata": {},
   "outputs": [
    {
     "data": {
      "text/plain": [
       "(123927, 31)"
      ]
     },
     "execution_count": 25,
     "metadata": {},
     "output_type": "execute_result"
    }
   ],
   "source": [
    "# check data shape\n",
    "df.shape"
   ]
  },
  {
   "cell_type": "code",
   "execution_count": 26,
   "metadata": {},
   "outputs": [
    {
     "name": "stdout",
     "output_type": "stream",
     "text": [
      "<class 'pandas.core.frame.DataFrame'>\n",
      "RangeIndex: 123927 entries, 0 to 123926\n",
      "Data columns (total 31 columns):\n",
      " #   Column          Non-Null Count   Dtype  \n",
      "---  ------          --------------   -----  \n",
      " 0   index           123927 non-null  int64  \n",
      " 1   review_id       123927 non-null  object \n",
      " 2   user_id         123927 non-null  object \n",
      " 3   business_id     123927 non-null  object \n",
      " 4   stars           123927 non-null  float64\n",
      " 5   useful          123927 non-null  int64  \n",
      " 6   funny           123927 non-null  int64  \n",
      " 7   cool            123927 non-null  int64  \n",
      " 8   text            123927 non-null  object \n",
      " 9   date            123927 non-null  object \n",
      " 10  b_name          123927 non-null  object \n",
      " 11  address         123927 non-null  object \n",
      " 12  city            123927 non-null  object \n",
      " 13  state           123927 non-null  object \n",
      " 14  postal_code     123927 non-null  object \n",
      " 15  latitude        123927 non-null  float64\n",
      " 16  longitude       123927 non-null  float64\n",
      " 17  b_stars         123927 non-null  float64\n",
      " 18  b_review_count  123927 non-null  int64  \n",
      " 19  is_open         123927 non-null  int64  \n",
      " 20  attributes      123732 non-null  object \n",
      " 21  categories      123924 non-null  object \n",
      " 22  hours           120092 non-null  object \n",
      " 23  u_review_count  123927 non-null  int64  \n",
      " 24  yelping_since   123927 non-null  object \n",
      " 25  u_useful        123927 non-null  int64  \n",
      " 26  u_funny         123927 non-null  int64  \n",
      " 27  u_cool          123927 non-null  int64  \n",
      " 28  elite           123927 non-null  object \n",
      " 29  fans            123927 non-null  int64  \n",
      " 30  average_stars   123927 non-null  float64\n",
      "dtypes: float64(5), int64(11), object(15)\n",
      "memory usage: 29.3+ MB\n"
     ]
    }
   ],
   "source": [
    "# check if there is Null value and data type\n",
    "df.info()"
   ]
  },
  {
   "cell_type": "code",
   "execution_count": 27,
   "metadata": {},
   "outputs": [
    {
     "data": {
      "text/html": [
       "<div>\n",
       "<style scoped>\n",
       "    .dataframe tbody tr th:only-of-type {\n",
       "        vertical-align: middle;\n",
       "    }\n",
       "\n",
       "    .dataframe tbody tr th {\n",
       "        vertical-align: top;\n",
       "    }\n",
       "\n",
       "    .dataframe thead th {\n",
       "        text-align: right;\n",
       "    }\n",
       "</style>\n",
       "<table border=\"1\" class=\"dataframe\">\n",
       "  <thead>\n",
       "    <tr style=\"text-align: right;\">\n",
       "      <th></th>\n",
       "      <th>index</th>\n",
       "      <th>stars</th>\n",
       "      <th>useful</th>\n",
       "      <th>funny</th>\n",
       "      <th>cool</th>\n",
       "      <th>latitude</th>\n",
       "      <th>longitude</th>\n",
       "      <th>b_stars</th>\n",
       "      <th>b_review_count</th>\n",
       "      <th>is_open</th>\n",
       "      <th>u_review_count</th>\n",
       "      <th>u_useful</th>\n",
       "      <th>u_funny</th>\n",
       "      <th>u_cool</th>\n",
       "      <th>fans</th>\n",
       "      <th>average_stars</th>\n",
       "    </tr>\n",
       "  </thead>\n",
       "  <tbody>\n",
       "    <tr>\n",
       "      <th>count</th>\n",
       "      <td>123927.000000</td>\n",
       "      <td>123927.000000</td>\n",
       "      <td>123927.000000</td>\n",
       "      <td>123927.000000</td>\n",
       "      <td>123927.000000</td>\n",
       "      <td>123927.000000</td>\n",
       "      <td>123927.000000</td>\n",
       "      <td>123927.00000</td>\n",
       "      <td>123927.000000</td>\n",
       "      <td>123927.000000</td>\n",
       "      <td>123927.000000</td>\n",
       "      <td>123927.000000</td>\n",
       "      <td>123927.000000</td>\n",
       "      <td>123927.000000</td>\n",
       "      <td>123927.000000</td>\n",
       "      <td>123927.000000</td>\n",
       "    </tr>\n",
       "    <tr>\n",
       "      <th>mean</th>\n",
       "      <td>61963.000000</td>\n",
       "      <td>3.696410</td>\n",
       "      <td>0.559071</td>\n",
       "      <td>0.175498</td>\n",
       "      <td>0.165815</td>\n",
       "      <td>49.274398</td>\n",
       "      <td>-123.113755</td>\n",
       "      <td>3.73645</td>\n",
       "      <td>261.327701</td>\n",
       "      <td>0.805700</td>\n",
       "      <td>19.775013</td>\n",
       "      <td>17.144295</td>\n",
       "      <td>4.632639</td>\n",
       "      <td>4.864001</td>\n",
       "      <td>0.643984</td>\n",
       "      <td>3.652234</td>\n",
       "    </tr>\n",
       "    <tr>\n",
       "      <th>std</th>\n",
       "      <td>35774.787742</td>\n",
       "      <td>1.455262</td>\n",
       "      <td>1.521010</td>\n",
       "      <td>0.858387</td>\n",
       "      <td>0.806925</td>\n",
       "      <td>0.021502</td>\n",
       "      <td>0.033608</td>\n",
       "      <td>0.54110</td>\n",
       "      <td>345.556272</td>\n",
       "      <td>0.395662</td>\n",
       "      <td>18.122615</td>\n",
       "      <td>26.991953</td>\n",
       "      <td>11.690103</td>\n",
       "      <td>12.174667</td>\n",
       "      <td>1.894325</td>\n",
       "      <td>0.901928</td>\n",
       "    </tr>\n",
       "    <tr>\n",
       "      <th>min</th>\n",
       "      <td>0.000000</td>\n",
       "      <td>1.000000</td>\n",
       "      <td>0.000000</td>\n",
       "      <td>0.000000</td>\n",
       "      <td>0.000000</td>\n",
       "      <td>49.194305</td>\n",
       "      <td>-123.278011</td>\n",
       "      <td>1.00000</td>\n",
       "      <td>5.000000</td>\n",
       "      <td>0.000000</td>\n",
       "      <td>1.000000</td>\n",
       "      <td>0.000000</td>\n",
       "      <td>0.000000</td>\n",
       "      <td>0.000000</td>\n",
       "      <td>0.000000</td>\n",
       "      <td>1.000000</td>\n",
       "    </tr>\n",
       "    <tr>\n",
       "      <th>25%</th>\n",
       "      <td>30981.500000</td>\n",
       "      <td>3.000000</td>\n",
       "      <td>0.000000</td>\n",
       "      <td>0.000000</td>\n",
       "      <td>0.000000</td>\n",
       "      <td>49.263677</td>\n",
       "      <td>-123.130851</td>\n",
       "      <td>3.50000</td>\n",
       "      <td>66.000000</td>\n",
       "      <td>1.000000</td>\n",
       "      <td>5.000000</td>\n",
       "      <td>2.000000</td>\n",
       "      <td>0.000000</td>\n",
       "      <td>0.000000</td>\n",
       "      <td>0.000000</td>\n",
       "      <td>3.200000</td>\n",
       "    </tr>\n",
       "    <tr>\n",
       "      <th>50%</th>\n",
       "      <td>61963.000000</td>\n",
       "      <td>4.000000</td>\n",
       "      <td>0.000000</td>\n",
       "      <td>0.000000</td>\n",
       "      <td>0.000000</td>\n",
       "      <td>49.278608</td>\n",
       "      <td>-123.116585</td>\n",
       "      <td>4.00000</td>\n",
       "      <td>143.000000</td>\n",
       "      <td>1.000000</td>\n",
       "      <td>13.000000</td>\n",
       "      <td>8.000000</td>\n",
       "      <td>1.000000</td>\n",
       "      <td>1.000000</td>\n",
       "      <td>0.000000</td>\n",
       "      <td>3.790000</td>\n",
       "    </tr>\n",
       "    <tr>\n",
       "      <th>75%</th>\n",
       "      <td>92944.500000</td>\n",
       "      <td>5.000000</td>\n",
       "      <td>1.000000</td>\n",
       "      <td>0.000000</td>\n",
       "      <td>0.000000</td>\n",
       "      <td>49.284202</td>\n",
       "      <td>-123.100839</td>\n",
       "      <td>4.00000</td>\n",
       "      <td>307.000000</td>\n",
       "      <td>1.000000</td>\n",
       "      <td>30.000000</td>\n",
       "      <td>22.000000</td>\n",
       "      <td>5.000000</td>\n",
       "      <td>5.000000</td>\n",
       "      <td>1.000000</td>\n",
       "      <td>4.250000</td>\n",
       "    </tr>\n",
       "    <tr>\n",
       "      <th>max</th>\n",
       "      <td>123926.000000</td>\n",
       "      <td>5.000000</td>\n",
       "      <td>69.000000</td>\n",
       "      <td>69.000000</td>\n",
       "      <td>39.000000</td>\n",
       "      <td>49.395121</td>\n",
       "      <td>-122.948262</td>\n",
       "      <td>5.00000</td>\n",
       "      <td>2302.000000</td>\n",
       "      <td>1.000000</td>\n",
       "      <td>70.000000</td>\n",
       "      <td>1157.000000</td>\n",
       "      <td>867.000000</td>\n",
       "      <td>1112.000000</td>\n",
       "      <td>80.000000</td>\n",
       "      <td>5.000000</td>\n",
       "    </tr>\n",
       "  </tbody>\n",
       "</table>\n",
       "</div>"
      ],
      "text/plain": [
       "               index          stars         useful          funny  \\\n",
       "count  123927.000000  123927.000000  123927.000000  123927.000000   \n",
       "mean    61963.000000       3.696410       0.559071       0.175498   \n",
       "std     35774.787742       1.455262       1.521010       0.858387   \n",
       "min         0.000000       1.000000       0.000000       0.000000   \n",
       "25%     30981.500000       3.000000       0.000000       0.000000   \n",
       "50%     61963.000000       4.000000       0.000000       0.000000   \n",
       "75%     92944.500000       5.000000       1.000000       0.000000   \n",
       "max    123926.000000       5.000000      69.000000      69.000000   \n",
       "\n",
       "                cool       latitude      longitude       b_stars  \\\n",
       "count  123927.000000  123927.000000  123927.000000  123927.00000   \n",
       "mean        0.165815      49.274398    -123.113755       3.73645   \n",
       "std         0.806925       0.021502       0.033608       0.54110   \n",
       "min         0.000000      49.194305    -123.278011       1.00000   \n",
       "25%         0.000000      49.263677    -123.130851       3.50000   \n",
       "50%         0.000000      49.278608    -123.116585       4.00000   \n",
       "75%         0.000000      49.284202    -123.100839       4.00000   \n",
       "max        39.000000      49.395121    -122.948262       5.00000   \n",
       "\n",
       "       b_review_count        is_open  u_review_count       u_useful  \\\n",
       "count   123927.000000  123927.000000   123927.000000  123927.000000   \n",
       "mean       261.327701       0.805700       19.775013      17.144295   \n",
       "std        345.556272       0.395662       18.122615      26.991953   \n",
       "min          5.000000       0.000000        1.000000       0.000000   \n",
       "25%         66.000000       1.000000        5.000000       2.000000   \n",
       "50%        143.000000       1.000000       13.000000       8.000000   \n",
       "75%        307.000000       1.000000       30.000000      22.000000   \n",
       "max       2302.000000       1.000000       70.000000    1157.000000   \n",
       "\n",
       "             u_funny         u_cool           fans  average_stars  \n",
       "count  123927.000000  123927.000000  123927.000000  123927.000000  \n",
       "mean        4.632639       4.864001       0.643984       3.652234  \n",
       "std        11.690103      12.174667       1.894325       0.901928  \n",
       "min         0.000000       0.000000       0.000000       1.000000  \n",
       "25%         0.000000       0.000000       0.000000       3.200000  \n",
       "50%         1.000000       1.000000       0.000000       3.790000  \n",
       "75%         5.000000       5.000000       1.000000       4.250000  \n",
       "max       867.000000    1112.000000      80.000000       5.000000  "
      ]
     },
     "execution_count": 27,
     "metadata": {},
     "output_type": "execute_result"
    }
   ],
   "source": [
    "# check statistic summary\n",
    "df.describe(exclude = [object])"
   ]
  },
  {
   "cell_type": "code",
   "execution_count": 28,
   "metadata": {
    "scrolled": true
   },
   "outputs": [
    {
     "name": "stdout",
     "output_type": "stream",
     "text": [
      "There are totally  123927 reviews in the dataset.\n",
      "There are totally  3879 Vancouver restaurants selected in the dataset.\n",
      "There are totally  56124 users selected who rated Vancouver restaurants in the dataset.\n"
     ]
    }
   ],
   "source": [
    "# count total number of reviews, business, and users\n",
    "print(\"There are totally \", len(df.review_id.unique()), \"reviews in the dataset.\")\n",
    "print(\"There are totally \", len(df.business_id.unique()), \"Vancouver restaurants selected in the dataset.\")\n",
    "print(\"There are totally \", len(df.user_id.unique()), \"users selected who rated Vancouver restaurants in the dataset.\")"
   ]
  },
  {
   "cell_type": "code",
   "execution_count": 29,
   "metadata": {
    "scrolled": false
   },
   "outputs": [
    {
     "data": {
      "text/plain": [
       "'\\n# plot selected period review stars in pie chart\\ny = stars.values()\\n\\nexplode = (0, 0, 0, 0.1, 0.1)  \\nfig, ax = plt.subplots(figsize=(7, 6))\\nwedges, texts, autotexts = ax.pie(y, pctdistance = 0.5,                                   explode = explode, autopct = \\'%.1f%%\\',                                   counterclock = False, shadow = True,                                   colors = [\\'#1DA2DC\\', \\'#9E7CDD\\', \\'#DD7C9F\\', \\'#EAAB3B\\', \\'#6DCA69\\'],                                   startangle = 90)\\nax.legend(wedges, stars.keys(), title=\"Rating Stars\", loc=\"center right\", bbox_to_anchor=(0, 0.5))\\nplt.setp(autotexts, size=12)\\nax.set_title(\"Reviews Rating Stars\")    \\nplt.show()\\n'"
      ]
     },
     "execution_count": 29,
     "metadata": {},
     "output_type": "execute_result"
    }
   ],
   "source": [
    "# recompute review stars\n",
    "r_stars = {'1':0, '2':0, '3':0, '4':0, '5':0}\n",
    "\n",
    "for i in range(len(df.stars)):\n",
    "    star = df.stars[i]\n",
    "    \n",
    "    if star < 2.0:\n",
    "        r_stars['1'] += 1\n",
    "    elif star >= 2.0 and star < 3.0:\n",
    "        r_stars['2'] += 1\n",
    "    elif star >= 3.0 and star < 4.0:\n",
    "        r_stars['3'] += 1\n",
    "    elif star >= 4.0 and star < 5.0:\n",
    "        r_stars['4'] += 1\n",
    "    elif star >= 5.0:\n",
    "        r_stars['5'] += 1\n",
    "        \n",
    "'''\n",
    "# plot selected period review stars in pie chart\n",
    "y = stars.values()\n",
    "\n",
    "explode = (0, 0, 0, 0.1, 0.1)  \n",
    "fig, ax = plt.subplots(figsize=(7, 6))\n",
    "wedges, texts, autotexts = ax.pie(y, pctdistance = 0.5, \\\n",
    "                                  explode = explode, autopct = '%.1f%%', \\\n",
    "                                  counterclock = False, shadow = True, \\\n",
    "                                  colors = ['#1DA2DC', '#9E7CDD', '#DD7C9F', '#EAAB3B', '#6DCA69'], \\\n",
    "                                  startangle = 90)\n",
    "ax.legend(wedges, stars.keys(), title=\"Rating Stars\", loc=\"center right\", bbox_to_anchor=(0, 0.5))\n",
    "plt.setp(autotexts, size=12)\n",
    "ax.set_title(\"Reviews Rating Stars\")    \n",
    "plt.show()\n",
    "'''"
   ]
  },
  {
   "cell_type": "code",
   "execution_count": 30,
   "metadata": {},
   "outputs": [],
   "source": [
    "# collect rating stars of each restaurants\n",
    "rating_b = {b_id : [] for b_id in df.business_id.unique()}\n",
    "\n",
    "for i in range(len(df)):\n",
    "    rating_b[df.iloc[i]['business_id']].append(df.iloc[i]['stars'])\n",
    "    \n",
    "# collect rating stars of each user\n",
    "rating_u = {u_id : [] for u_id in df.user_id.unique()}\n",
    "\n",
    "for i in range(len(df)):\n",
    "    rating_u[df.iloc[i]['user_id']].append(df.iloc[i]['stars'])"
   ]
  },
  {
   "cell_type": "code",
   "execution_count": 31,
   "metadata": {},
   "outputs": [],
   "source": [
    "# calculate average rating stars of each restaurants\n",
    "avgRating_b = {b_id : [] for b_id in df.business_id.unique()}\n",
    "\n",
    "for key in rating_b:\n",
    "    avgRating_b[key] = np.mean(rating_b[key])\n",
    "    \n",
    "# calculate average rating stars of each user\n",
    "avgRating_u = {u_id : [] for u_id in df.user_id.unique()}\n",
    "\n",
    "for key in rating_u:\n",
    "    avgRating_u[key] = np.mean(rating_u[key])"
   ]
  },
  {
   "cell_type": "code",
   "execution_count": 32,
   "metadata": {},
   "outputs": [],
   "source": [
    "# recompute average rating star of business stars from df\n",
    "rb_stars = {'1':0, '2':0, '3':0, '4':0, '5':0}\n",
    "\n",
    "for key in avgRating_b:\n",
    "    star = avgRating_b[key]    \n",
    "    \n",
    "    if star < 2.0:\n",
    "        rb_stars['1'] += 1\n",
    "    elif star >= 2.0 and star < 3.0:\n",
    "        rb_stars['2'] += 1\n",
    "    elif star >= 3.0 and star < 4.0:\n",
    "        rb_stars['3'] += 1\n",
    "    elif star >= 4.0 and star < 5.0:\n",
    "        rb_stars['4'] += 1\n",
    "    elif star >= 5.0:\n",
    "        rb_stars['5'] += 1"
   ]
  },
  {
   "cell_type": "code",
   "execution_count": 33,
   "metadata": {},
   "outputs": [],
   "source": [
    "# recompute business stars b_stars\n",
    "b_stars = {'1':0, '2':0, '3':0, '4':0, '5':0}\n",
    "\n",
    "for i in range(len(df.b_stars)):\n",
    "    star = df.b_stars[i]\n",
    "    \n",
    "    if star < 2.0:\n",
    "        b_stars['1'] += 1\n",
    "    elif star >= 2.0 and star < 3.0:\n",
    "        b_stars['2'] += 1\n",
    "    elif star >= 3.0 and star < 4.0:\n",
    "        b_stars['3'] += 1\n",
    "    elif star >= 4.0 and star < 5.0:\n",
    "        b_stars['4'] += 1\n",
    "    elif star >= 5.0:\n",
    "        b_stars['5'] += 1"
   ]
  },
  {
   "cell_type": "code",
   "execution_count": 37,
   "metadata": {},
   "outputs": [
    {
     "data": {
      "image/png": "[encoded data removed]",
      "text/plain": [
       "<Figure size 576x864 with 2 Axes>"
      ]
     },
     "metadata": {
      "needs_background": "light"
     },
     "output_type": "display_data"
    }
   ],
   "source": [
    "# bar chart of number of restaurants in each rating group\n",
    "x = np.arange(1,6)  # the label locations\n",
    "width = 0.35  # the width of the bars\n",
    "labels = ['1', '2', '3', '4', '5']\n",
    "\n",
    "fig, axs = plt.subplots(nrows=2, ncols=1, figsize=(8,12))\n",
    "\n",
    "axs[0].bar(x, list(r_stars.values()), width, color = '#1DA2DC', label='review ratings')\n",
    "axs[1].bar(x, list(rb_stars.values()), width, color='#F58B21', label='average ratings per restaurants')\n",
    "\n",
    "# Add some text for labels, title and custom x-axis tick labels, etc.\n",
    "axs[0].set_xlabel('Rating Stars', fontsize = 15)\n",
    "axs[0].set_ylabel('Reviews Count', fontsize = 15)\n",
    "axs[0].set_xticks(x)\n",
    "axs[0].set_xticklabels(labels, fontsize = 12)\n",
    "axs[0].legend(fontsize = 10)\n",
    "\n",
    "axs[1].set_xlabel('Rating Stars', fontsize = 15)\n",
    "axs[1].set_ylabel('Restaurants Count', fontsize = 15)\n",
    "axs[1].set_xticks(x)\n",
    "axs[1].set_xticklabels(labels, fontsize = 12)\n",
    "axs[1].legend(fontsize = 10)\n",
    "\n",
    "for i in range(2):\n",
    "    for bar in axs[i].patches:\n",
    "        # The text annotation for each bar should be its height.\n",
    "        bar_value = bar.get_height()\n",
    "        # Format the text with commas to separate thousands. You can do\n",
    "        # any type of formatting here though.\n",
    "        text = f'{bar_value:,}'\n",
    "        # This will give the middle of each bar on the x-axis.\n",
    "        text_x = bar.get_x() + bar.get_width() / 2\n",
    "        # get_y() is where the bar starts so we add the height to it.\n",
    "        text_y = bar.get_y() + bar_value\n",
    "        bar_color = bar.get_facecolor()\n",
    "        axs[i].text(text_x, text_y, text, ha='center', va='bottom', color='#252525', size=12)\n",
    "\n",
    "fig.tight_layout()\n",
    "\n",
    "plt.show()"
   ]
  },
  {
   "cell_type": "code",
   "execution_count": 38,
   "metadata": {
    "scrolled": false
   },
   "outputs": [],
   "source": [
    "# collect review counts of each business\n",
    "rc_b = {b_id : 0 for b_id in df.business_id.unique()}\n",
    "\n",
    "for i in range(len(df)):\n",
    "    rc_b[df.iloc[i]['business_id']] += 1\n",
    "    \n",
    "# collect review counts of each user\n",
    "rc_u = {u_id : 0 for u_id in df.user_id.unique()}\n",
    "\n",
    "for i in range(len(df)):\n",
    "    rc_u[df.iloc[i]['user_id']] += 1"
   ]
  },
  {
   "cell_type": "code",
   "execution_count": 39,
   "metadata": {
    "scrolled": false
   },
   "outputs": [
    {
     "data": {
      "image/png": "[encoded data removed]",
      "text/plain": [
       "<Figure size 1008x720 with 4 Axes>"
      ]
     },
     "metadata": {
      "needs_background": "light"
     },
     "output_type": "display_data"
    }
   ],
   "source": [
    "# histograms of average rating stars and review counts of business and users\n",
    "x1 = list(avgRating_b.values())\n",
    "y1 = list(avgRating_u.values())\n",
    "x2 = list(rc_b.values())\n",
    "y2 = list(rc_u.values())\n",
    "\n",
    "fig, axs = plt.subplots(nrows=2, ncols=2, constrained_layout=True, figsize=(14,10))\n",
    "\n",
    "\n",
    "axs[0, 0].hist(x1, bins = 9, facecolor='#1DA2DC', alpha=0.75, edgecolor=\"white\")\n",
    "axs[0, 0].set_xlabel('Average Rating Stars per Business', fontsize = 15)\n",
    "axs[0, 0].set_ylabel('Frequency', fontsize = 15)\n",
    "#axs[0, 0].grid(color = 'white', linestyle = '--', linewidth = 1)\n",
    "\n",
    "axs[0, 1].hist(y1, bins = 9, facecolor='#1DA2DC', alpha=0.75, edgecolor=\"white\")\n",
    "axs[0, 1].set_xlabel('Average Rating Stars per User', fontsize = 15)\n",
    "axs[0, 1].set_ylabel('Frequency', fontsize = 15)\n",
    "#axs[0, 1].grid(color = 'white', linestyle = '--', linewidth = 1)\n",
    "\n",
    "axs[1, 0].hist(x2, bins = 50, facecolor='#1DA2DC', alpha=0.75, edgecolor=\"white\")\n",
    "axs[1, 0].set_xlabel('Review Counts per Business', fontsize = 15)\n",
    "axs[1, 0].set_ylabel('Frequency', fontsize = 15)\n",
    "#axs[1, 0].grid(color = 'white', linestyle = '--', linewidth = 1)\n",
    "\n",
    "axs[1, 1].hist(y2, bins = 50, facecolor='#1DA2DC', alpha=0.75, edgecolor=\"white\")\n",
    "axs[1, 1].set_xlabel('Review Counts per per User', fontsize = 15)\n",
    "axs[1, 1].set_ylabel('Frequency', fontsize = 15)\n",
    "#axs[1, 1].grid(color = 'white', linestyle = '--', linewidth = 1)\n",
    "\n",
    "plt.show()"
   ]
  },
  {
   "cell_type": "markdown",
   "metadata": {},
   "source": [
    "### Spearmans Correlation "
   ]
  },
  {
   "cell_type": "code",
   "execution_count": 40,
   "metadata": {},
   "outputs": [
    {
     "name": "stdout",
     "output_type": "stream",
     "text": [
      "rho: 0.1762\n",
      "p-value: 2.0143488506368219e-28\n"
     ]
    }
   ],
   "source": [
    "# Spearmans correllation between b_stars and b_review_count\n",
    "from scipy.stats import pearsonr\n",
    "from scipy.stats import spearmanr\n",
    "\n",
    "business_df = df.drop_duplicates(subset = 'business_id', keep = 'first')\n",
    "\n",
    "x = business_df.b_stars.values\n",
    "y = business_df.b_review_count.values\n",
    "\n",
    "rho, pval = spearmanr(x, y)\n",
    "print('rho: %.4f' % rho)\n",
    "print('p-value:', pval)\n",
    "#print('Spearmans correlation: %.3f' % corr)\n",
    "#plt.scatter(x, y)\n",
    "#plt.show()"
   ]
  },
  {
   "cell_type": "code",
   "execution_count": 41,
   "metadata": {},
   "outputs": [
    {
     "name": "stdout",
     "output_type": "stream",
     "text": [
      "rho: 0.0361\n",
      "p-value: 5.4947687518025285e-37\n"
     ]
    }
   ],
   "source": [
    "# Spearmans correllation between stars and user_review_count\n",
    "x = df.stars.values\n",
    "y = df.u_review_count.values\n",
    "\n",
    "\n",
    "rho, pval = spearmanr(x, y)\n",
    "print('rho: %.4f' % rho)\n",
    "print('p-value:', pval)\n",
    "#print('Spearmans correlation: %.3f' % corr)\n",
    "#plt.scatter(x, y)\n",
    "#plt.show()"
   ]
  },
  {
   "cell_type": "code",
   "execution_count": 42,
   "metadata": {},
   "outputs": [
    {
     "name": "stdout",
     "output_type": "stream",
     "text": [
      "rho: 0.3814\n",
      "p-value: 0.0\n"
     ]
    }
   ],
   "source": [
    "# Spearmans correllation between stars and b_stars\n",
    "x = df.stars.values\n",
    "y = df.b_stars.values\n",
    "\n",
    "rho, pval = spearmanr(x, y)\n",
    "print('rho: %.4f' % rho)\n",
    "print('p-value:', pval)\n",
    "#print('Spearmans correlation: %.3f' % corr)\n",
    "#plt.scatter(x, y)\n",
    "#plt.show()"
   ]
  },
  {
   "cell_type": "code",
   "execution_count": 43,
   "metadata": {},
   "outputs": [
    {
     "name": "stdout",
     "output_type": "stream",
     "text": [
      "rho: 0.5506\n",
      "p-value: 0.0\n"
     ]
    }
   ],
   "source": [
    "# Spearmans correllation between stars and users' average_stars \n",
    "x = df.stars.values\n",
    "y = df.average_stars.values\n",
    "\n",
    "rho, pval = spearmanr(x, y)\n",
    "print('rho: %.4f' % rho)\n",
    "print('p-value:', pval)\n",
    "#print('Spearmans correlation: %.3f' % corr)\n",
    "#plt.scatter(x, y)\n",
    "#plt.show()"
   ]
  },
  {
   "cell_type": "code",
   "execution_count": 44,
   "metadata": {},
   "outputs": [
    {
     "name": "stdout",
     "output_type": "stream",
     "text": [
      "rho: 0.0503\n",
      "p-value: 3.126520171540593e-70\n"
     ]
    }
   ],
   "source": [
    "# Spearmans correllation between b_stars and user_review_count \n",
    "x = df.b_stars.values\n",
    "y = df.u_review_count.values\n",
    "\n",
    "rho, pval = spearmanr(x, y)\n",
    "print('rho: %.4f' % rho)\n",
    "print('p-value:', pval)\n",
    "#print('Spearmans correlation: %.3f' % corr)\n",
    "#plt.scatter(x, y)\n",
    "#plt.show()"
   ]
  },
  {
   "cell_type": "code",
   "execution_count": 45,
   "metadata": {},
   "outputs": [
    {
     "name": "stdout",
     "output_type": "stream",
     "text": [
      "rho: 0.2835\n",
      "p-value: 0.0\n"
     ]
    }
   ],
   "source": [
    "# Spearmans correllation between b_stars and b_review_count \n",
    "x = df.b_stars.values\n",
    "y = df.b_review_count.values\n",
    "\n",
    "rho, pval = spearmanr(x, y)\n",
    "print('rho: %.4f' % rho)\n",
    "print('p-value:', pval)\n",
    "#print('Spearmans correlation: %.3f' % corr)\n",
    "#plt.scatter(x, y)\n",
    "#plt.show()"
   ]
  },
  {
   "cell_type": "markdown",
   "metadata": {},
   "source": [
    "### Other Visualization"
   ]
  },
  {
   "cell_type": "code",
   "execution_count": 41,
   "metadata": {},
   "outputs": [
    {
     "data": {
      "image/png": "[encoded data removed]",
      "text/plain": [
       "<Figure size 1080x720 with 2 Axes>"
      ]
     },
     "metadata": {
      "needs_background": "light"
     },
     "output_type": "display_data"
    }
   ],
   "source": [
    "# bar chart of number of restaurants in each rating group\n",
    "x = np.arange(1,6)  # the label locations\n",
    "width = 0.35  # the width of the bars\n",
    "labels = ['1', '2', '3', '4', '5']\n",
    "\n",
    "fig, axs = plt.subplots(nrows=2, ncols=1, figsize=(15,10))\n",
    "\n",
    "axs[0].bar(x, list(r_stars.values()), width, label='review ratings')\n",
    "axs[0].set_xlabel('Rating Stars', fontsize = 15)\n",
    "axs[0].set_ylabel('Reviews Count', fontsize = 15)\n",
    "axs[0].set_xticks(x)\n",
    "axs[0].set_xticklabels(labels, fontsize = 12)\n",
    "axs[0].legend(fontsize = 15)\n",
    "\n",
    "\n",
    "rects1 = axs[1].bar(x - width/2, list(rb_stars.values()), width, label='average ratings per restaurants')\n",
    "rects2 = axs[1].bar(x + width/2, list(b_stars.values()), width, label='original ratings per restaurants')\n",
    "\n",
    "# Add some text for labels, title and custom x-axis tick labels, etc.\n",
    "axs[1].set_xlabel('Rating Stars', fontsize = 15)\n",
    "axs[1].set_ylabel('Restaurants Count', fontsize = 15)\n",
    "axs[1].set_xticks(x)\n",
    "axs[1].set_xticklabels(labels, fontsize = 12)\n",
    "axs[1].legend(fontsize = 15)\n",
    "\n",
    "for i in range(2):\n",
    "    for bar in axs[i].patches:\n",
    "        # The text annotation for each bar should be its height.\n",
    "        bar_value = bar.get_height()\n",
    "        # Format the text with commas to separate thousands. You can do\n",
    "        # any type of formatting here though.\n",
    "        text = f'{bar_value:,}'\n",
    "        # This will give the middle of each bar on the x-axis.\n",
    "        text_x = bar.get_x() + bar.get_width() / 2\n",
    "        # get_y() is where the bar starts so we add the height to it.\n",
    "        text_y = bar.get_y() + bar_value\n",
    "        bar_color = bar.get_facecolor()\n",
    "        axs[i].text(text_x, text_y, text, ha='center', va='bottom', color='#252525', size=12)\n",
    "\n",
    "fig.tight_layout()\n",
    "\n",
    "plt.show()"
   ]
  },
  {
   "cell_type": "code",
   "execution_count": 97,
   "metadata": {},
   "outputs": [],
   "source": [
    "# Number of restaurants in each rating group\n",
    "labels = list(np.sort(df.b_stars.unique()))\n",
    "openR = {stars : 0 for stars in labels}\n",
    "closeR = {stars : 0 for stars in labels}\n",
    "\n",
    "for i in range(len(df)):\n",
    "    if df.iloc[i]['is_open'] == 1:\n",
    "        openR[df.iloc[i]['b_stars']] += 1\n",
    "    else:\n",
    "        closeR[df.iloc[i]['b_stars']] += 1"
   ]
  },
  {
   "cell_type": "code",
   "execution_count": 126,
   "metadata": {},
   "outputs": [
    {
     "data": {
      "image/png": "[encoded data removed]",
      "text/plain": [
       "<Figure size 1080x432 with 1 Axes>"
      ]
     },
     "metadata": {
      "needs_background": "light"
     },
     "output_type": "display_data"
    }
   ],
   "source": [
    "# bar chart of number of restaurants in each rating group\n",
    "x = np.arange(len(df.b_stars.unique()))  # the label locations\n",
    "width = 0.35  # the width of the bars\n",
    "\n",
    "fig, ax = plt.subplots(figsize=(15,6))\n",
    "rects1 = ax.bar(x - width/2, list(openR.values()), width, label='open')\n",
    "rects2 = ax.bar(x + width/2, list(closeR.values()), width, label='close')\n",
    "\n",
    "# Add some text for labels, title and custom x-axis tick labels, etc.\n",
    "ax.set_xlabel('Rating Stars', fontsize = 15)\n",
    "ax.set_ylabel('Restaurant Count', fontsize = 15)\n",
    "ax.set_xticks(x)\n",
    "ax.set_xticklabels(labels, fontsize = 12)\n",
    "ax.legend(fontsize = 15)\n",
    "\n",
    "#ax.tick_label(rects1, padding=3)\n",
    "#ax.tick_label(rects2, padding=3)\n",
    "for bar in ax.patches:\n",
    "    # The text annotation for each bar should be its height.\n",
    "    bar_value = bar.get_height()\n",
    "    # Format the text with commas to separate thousands. You can do\n",
    "    # any type of formatting here though.\n",
    "    text = f'{bar_value:,}'\n",
    "    # This will give the middle of each bar on the x-axis.\n",
    "    text_x = bar.get_x() + bar.get_width() / 2\n",
    "    # get_y() is where the bar starts so we add the height to it.\n",
    "    text_y = bar.get_y() + bar_value\n",
    "    bar_color = bar.get_facecolor()\n",
    "    ax.text(text_x, text_y, text, ha='center', va='bottom', color='#252525', size=12)\n",
    "\n",
    "fig.tight_layout()\n",
    "\n",
    "plt.show()"
   ]
  }
 ],
 "metadata": {
  "kernelspec": {
   "display_name": "Python 3",
   "language": "python",
   "name": "python3"
  },
  "language_info": {
   "codemirror_mode": {
    "name": "ipython",
    "version": 3
   },
   "file_extension": ".py",
   "mimetype": "text/x-python",
   "name": "python",
   "nbconvert_exporter": "python",
   "pygments_lexer": "ipython3",
   "version": "3.8.5"
  }
 },
 "nbformat": 4,
 "nbformat_minor": 4
}
